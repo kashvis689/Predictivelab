{
  "nbformat": 4,
  "nbformat_minor": 0,
  "metadata": {
    "colab": {
      "provenance": []
    },
    "kernelspec": {
      "name": "python3",
      "display_name": "Python 3"
    },
    "language_info": {
      "name": "python"
    }
  },
  "cells": [
    {
      "cell_type": "markdown",
      "source": [
        "###Lab 3"
      ],
      "metadata": {
        "id": "FJWqqEC8XvsG"
      }
    },
    {
      "cell_type": "markdown",
      "source": [
        "Q1. Array Creation and Manipulation:\n",
        "\n",
        "• Create different types of arrays (1D, 2D, 3D) using various methods (np.array,\n",
        "np.arange, np.linspace, etc.).\n",
        "\n",
        "• Perform basic operations on arrays (indexing, slicing, reshaping, concatenation).\n",
        "\n",
        "• Investigate array attributes like shape, size, dtype, ndim.\n",
        "\n",
        "• Use methods like reshape, resize, flatten"
      ],
      "metadata": {
        "id": "LorW4HO4dnhH"
      }
    },
    {
      "cell_type": "code",
      "source": [
        "import numpy as np\n",
        "\n",
        "# 1D Array using np.array\n",
        "arr1d = np.array([1, 2, 3, 4, 5])\n",
        "print(\"1D Array:\", arr1d)\n",
        "\n",
        "# 2D Array using np.arange\n",
        "arr2d = np.arange(12).reshape(3, 4)\n",
        "print(\"2D Array:\", arr2d)\n",
        "\n",
        "# 3D Array using np.linspace\n",
        "arr3d = np.linspace(0, 1, 27).reshape(3, 3, 3)\n",
        "print(\"3D Array:\", arr3d)\n",
        "\n",
        "# Indexing and Slicing\n",
        "print(\"Element at index 2:\", arr2d[2])\n",
        "print(\"Slice of 2D Array:\", arr2d[1:3, 2:])\n",
        "\n",
        "# Reshaping\n",
        "arr2d_reshaped = arr2d.reshape(6, 2)\n",
        "print(\"Reshaped 2D Array:\", arr2d_reshaped)\n",
        "\n",
        "# Concatenation\n",
        "arr_concat = np.concatenate((arr1d, arr1d))\n",
        "print(\"Concatenated Array:\", arr_concat)\n",
        "\n",
        "# Array Attributes\n",
        "print(\"Shape:\", arr1d.shape)\n",
        "print(\"Size:\", arr1d.size)\n",
        "print(\"Data Type:\", arr1d.dtype)\n",
        "print(\"Number of Dimensions:\", arr1d.ndim)\n",
        "\n",
        "# Methods\n",
        "print(\"Reshaped 2D Array:\", arr2d.reshape(2, 6))\n",
        "arr2d.resize(2, 6)  # Resizing happens in place\n",
        "print(\"Resized 2D Array:\", arr2d)\n",
        "print(\"Flattened Array:\", arr2d.flatten())\n"
      ],
      "metadata": {
        "colab": {
          "base_uri": "https://localhost:8080/"
        },
        "id": "9Moy3Yakdq78",
        "outputId": "a25478e1-5da7-4813-b764-39c4b3023c93"
      },
      "execution_count": 21,
      "outputs": [
        {
          "output_type": "stream",
          "name": "stdout",
          "text": [
            "1D Array: [1 2 3 4 5]\n",
            "2D Array: [[ 0  1  2  3]\n",
            " [ 4  5  6  7]\n",
            " [ 8  9 10 11]]\n",
            "3D Array: [[[0.         0.03846154 0.07692308]\n",
            "  [0.11538462 0.15384615 0.19230769]\n",
            "  [0.23076923 0.26923077 0.30769231]]\n",
            "\n",
            " [[0.34615385 0.38461538 0.42307692]\n",
            "  [0.46153846 0.5        0.53846154]\n",
            "  [0.57692308 0.61538462 0.65384615]]\n",
            "\n",
            " [[0.69230769 0.73076923 0.76923077]\n",
            "  [0.80769231 0.84615385 0.88461538]\n",
            "  [0.92307692 0.96153846 1.        ]]]\n",
            "Element at index 2: [ 8  9 10 11]\n",
            "Slice of 2D Array: [[ 6  7]\n",
            " [10 11]]\n",
            "Reshaped 2D Array: [[ 0  1]\n",
            " [ 2  3]\n",
            " [ 4  5]\n",
            " [ 6  7]\n",
            " [ 8  9]\n",
            " [10 11]]\n",
            "Concatenated Array: [1 2 3 4 5 1 2 3 4 5]\n",
            "Shape: (5,)\n",
            "Size: 5\n",
            "Data Type: int64\n",
            "Number of Dimensions: 1\n",
            "Reshaped 2D Array: [[ 0  1  2  3  4  5]\n",
            " [ 6  7  8  9 10 11]]\n",
            "Resized 2D Array: [[ 0  1  2  3  4  5]\n",
            " [ 6  7  8  9 10 11]]\n",
            "Flattened Array: [ 0  1  2  3  4  5  6  7  8  9 10 11]\n"
          ]
        }
      ]
    },
    {
      "cell_type": "markdown",
      "source": [
        "Q2. Data Loading and Preprocessing:\n",
        "\n",
        "• Load a dataset (e.g., CSV, Excel) using NumPy.\n",
        "\n",
        "• Clean and preprocess the data (handling missing values, normalization,\n",
        "standardization).\n",
        "\n",
        "• Calculate mean, median, standard deviation, variance, and other statistical\n",
        "measures."
      ],
      "metadata": {
        "id": "fkWpclIUdyCA"
      }
    },
    {
      "cell_type": "code",
      "source": [
        "# Import necessary Libraries\n",
        "import numpy as np\n",
        "from sklearn import datasets\n",
        "from sklearn.preprocessing import StandardScaler, MinMaxScaler\n",
        "from sklearn.impute import SimpleImputer\n",
        "\n",
        "# Load the iris dataset\n",
        "iris = datasets.load_iris()\n",
        "data = iris.data\n",
        "\n",
        "# Convert to NumPy array\n",
        "data_np = np.array(data)\n",
        "\n",
        "# 1. Data Cleaning: Handle missing values (if any)\n",
        "# For this example, we introduce some missing values to demonstrate imputation\n",
        "data_np[0, 0] = np.nan  # Inject a missing value for demonstration\n",
        "\n",
        "# Handle missing values using mean imputation\n",
        "imputer = SimpleImputer(strategy='mean')\n",
        "data_clean = imputer.fit_transform(data_np)\n",
        "\n",
        "# 2. Normalization\n",
        "scaler = MinMaxScaler()\n",
        "data_normalized = scaler.fit_transform(data_clean)\n",
        "\n",
        "# 2. Standardization\n",
        "scaler_std = StandardScaler()\n",
        "data_standardized = scaler_std.fit_transform(data_clean)\n",
        "\n",
        "# 3. Calculate statistical measures\n",
        "mean = np.mean(data_clean, axis=0)\n",
        "median = np.median(data_clean, axis=0)\n",
        "std_dev = np.std(data_clean, axis=0)\n",
        "variance = np.var(data_clean, axis=0)\n",
        "\n",
        "# Print statistical measures\n",
        "print(\"Mean:\\n\", mean)\n",
        "print(\"Median:\\n\", median)\n",
        "print(\"Standard Deviation:\\n\", std_dev)\n",
        "print(\"Variance:\\n\", variance)\n"
      ],
      "metadata": {
        "colab": {
          "base_uri": "https://localhost:8080/"
        },
        "id": "HoBwRyZAd0L4",
        "outputId": "4c138b2c-c0aa-4e13-9804-c2eb0fd46051"
      },
      "execution_count": 22,
      "outputs": [
        {
          "output_type": "stream",
          "name": "stdout",
          "text": [
            "Mean:\n",
            " [5.84832215 3.05733333 3.758      1.19933333]\n",
            "Median:\n",
            " [5.8  3.   4.35 1.3 ]\n",
            "Standard Deviation:\n",
            " [0.82305156 0.43441097 1.75940407 0.75969263]\n",
            "Variance:\n",
            " [0.67741387 0.18871289 3.09550267 0.57713289]\n"
          ]
        }
      ]
    }
  ]
}
{
  "nbformat": 4,
  "nbformat_minor": 0,
  "metadata": {
    "colab": {
      "provenance": []
    },
    "kernelspec": {
      "name": "python3",
      "display_name": "Python 3"
    },
    "language_info": {
      "name": "python"
    }
  },
  "cells": [
    {
      "cell_type": "markdown",
      "source": [
        "###Lab 4"
      ],
      "metadata": {
        "id": "FJWqqEC8XvsG"
      }
    },
    {
      "cell_type": "markdown",
      "source": [
        "Q1. Loading and Inspecting Data:\n",
        "\n",
        "· Load various data formats (CSV, Excel, JSON) into Pandas\n",
        "DataFrames.\n"
      ],
      "metadata": {
        "id": "5PU9mXz7e9Hn"
      }
    },
    {
      "cell_type": "code",
      "source": [
        "import pandas as pd\n",
        "df_csv=pd.read_csv('/content/Position_Salaries.csv' )\n",
        "print(\"CSV file opened successfully\")\n",
        "df_csv.to_excel( 'position _ Salaries.xlsx' )\n",
        "print(\"Excel file opened successfully\")\n",
        "df_csv.to_json( 'Position Salaries.json')\n",
        "print(\"Json file opened successfully\")"
      ],
      "metadata": {
        "colab": {
          "base_uri": "https://localhost:8080/"
        },
        "id": "7Kc8NWVcfFR1",
        "outputId": "a998c726-1005-4cc4-9912-ce03b656004c"
      },
      "execution_count": 26,
      "outputs": [
        {
          "output_type": "stream",
          "name": "stdout",
          "text": [
            "CSV file opened successfully\n",
            "Excel file opened successfully\n",
            "Json file opened successfully\n"
          ]
        }
      ]
    },
    {
      "cell_type": "markdown",
      "source": [
        "· Explore DataFrame attributes like shape, columns, dtypes,\n",
        "head, tail, info, describe."
      ],
      "metadata": {
        "id": "UoonD7oPfuFj"
      }
    },
    {
      "cell_type": "code",
      "source": [
        "print(\"Shape of the DataFrame:\")\n",
        "print(df_csv.shape)  # Returns (rows, columns)\n",
        "\n",
        "print(\"\\nColumn Names:\")\n",
        "print(df_csv.columns)  # List of column names\n",
        "\n",
        "print(\"\\nData Types of Each Column:\")\n",
        "print(df_csv.dtypes)  # Data types of each column\n",
        "\n",
        "print(\"\\nFirst 5 Rows (or fewer if less than 5 rows):\")\n",
        "print(df_csv.head())  # Displays the first 5 rows\n",
        "\n",
        "print(\"\\nLast 5 Rows (or fewer if less than 5 rows):\")\n",
        "print(df_csv.tail())  # Displays the last 5 rows\n",
        "\n",
        "print(\"\\nInfo about the DataFrame:\")\n",
        "df_csv.info()  # Summary including column non-null count and data types\n",
        "\n",
        "print(\"\\nSummary Statistics (numerical columns):\")\n",
        "print(df_csv.describe())"
      ],
      "metadata": {
        "colab": {
          "base_uri": "https://localhost:8080/"
        },
        "id": "LDbD_crSfuyo",
        "outputId": "9e0826d0-1e6a-4b78-ce7c-ee1001ad060e"
      },
      "execution_count": 27,
      "outputs": [
        {
          "output_type": "stream",
          "name": "stdout",
          "text": [
            "Shape of the DataFrame:\n",
            "(10, 3)\n",
            "\n",
            "Column Names:\n",
            "Index(['Position', 'Level', 'Salary'], dtype='object')\n",
            "\n",
            "Data Types of Each Column:\n",
            "Position    object\n",
            "Level        int64\n",
            "Salary       int64\n",
            "dtype: object\n",
            "\n",
            "First 5 Rows (or fewer if less than 5 rows):\n",
            "            Position  Level  Salary\n",
            "0   Business Analyst      1   45000\n",
            "1  Junior Consultant      2   50000\n",
            "2  Senior Consultant      3   60000\n",
            "3            Manager      4   80000\n",
            "4    Country Manager      5  110000\n",
            "\n",
            "Last 5 Rows (or fewer if less than 5 rows):\n",
            "         Position  Level   Salary\n",
            "5  Region Manager      6   150000\n",
            "6         Partner      7   200000\n",
            "7  Senior Partner      8   300000\n",
            "8         C-level      9   500000\n",
            "9             CEO     10  1000000\n",
            "\n",
            "Info about the DataFrame:\n",
            "<class 'pandas.core.frame.DataFrame'>\n",
            "RangeIndex: 10 entries, 0 to 9\n",
            "Data columns (total 3 columns):\n",
            " #   Column    Non-Null Count  Dtype \n",
            "---  ------    --------------  ----- \n",
            " 0   Position  10 non-null     object\n",
            " 1   Level     10 non-null     int64 \n",
            " 2   Salary    10 non-null     int64 \n",
            "dtypes: int64(2), object(1)\n",
            "memory usage: 368.0+ bytes\n",
            "\n",
            "Summary Statistics (numerical columns):\n",
            "          Level          Salary\n",
            "count  10.00000       10.000000\n",
            "mean    5.50000   249500.000000\n",
            "std     3.02765   299373.883668\n",
            "min     1.00000    45000.000000\n",
            "25%     3.25000    65000.000000\n",
            "50%     5.50000   130000.000000\n",
            "75%     7.75000   275000.000000\n",
            "max    10.00000  1000000.000000\n"
          ]
        }
      ]
    },
    {
      "cell_type": "markdown",
      "source": [
        "Practice selecting columns and rows using different\n",
        "methods (indexing, slicing, loc, iloc)."
      ],
      "metadata": {
        "id": "XSgqgI5bf3y9"
      }
    },
    {
      "cell_type": "code",
      "source": [
        "print(df_csv[\"Salary\"])\n",
        "\n",
        "print(\"\\nMultiple columns 'Name' and 'Salary':\")\n",
        "print(df_csv[[\"Level\", \"Salary\"]])"
      ],
      "metadata": {
        "colab": {
          "base_uri": "https://localhost:8080/"
        },
        "id": "Wkti3Dcxf5lL",
        "outputId": "d0bb0a05-aeb1-4335-b909-0469dec51fe1"
      },
      "execution_count": 29,
      "outputs": [
        {
          "output_type": "stream",
          "name": "stdout",
          "text": [
            "0      45000\n",
            "1      50000\n",
            "2      60000\n",
            "3      80000\n",
            "4     110000\n",
            "5     150000\n",
            "6     200000\n",
            "7     300000\n",
            "8     500000\n",
            "9    1000000\n",
            "Name: Salary, dtype: int64\n",
            "\n",
            "Multiple columns 'Name' and 'Salary':\n",
            "   Level   Salary\n",
            "0      1    45000\n",
            "1      2    50000\n",
            "2      3    60000\n",
            "3      4    80000\n",
            "4      5   110000\n",
            "5      6   150000\n",
            "6      7   200000\n",
            "7      8   300000\n",
            "8      9   500000\n",
            "9     10  1000000\n"
          ]
        }
      ]
    },
    {
      "cell_type": "code",
      "source": [
        "print(\"row data\")\n",
        "print(df_csv.iloc[1])\n",
        "print(\"sliced data\")\n",
        "print(df_csv[6:10])\n",
        "row_data_by_label=df_csv.loc[0]\n",
        "print(row_data_by_label)\n",
        "subset =df_csv.loc[0:4,['Level', 'Salary'] ]\n",
        "print(subset)\n",
        "subset =df_csv.iloc[0:5,[0,1]]\n",
        "print(subset)"
      ],
      "metadata": {
        "colab": {
          "base_uri": "https://localhost:8080/"
        },
        "id": "eJkZ69zjg_pb",
        "outputId": "2b7ddaa8-f606-43cd-cf89-66d105c84e80"
      },
      "execution_count": 33,
      "outputs": [
        {
          "output_type": "stream",
          "name": "stdout",
          "text": [
            "row data\n",
            "Position    Junior Consultant\n",
            "Level                       2\n",
            "Salary                  50000\n",
            "Name: 1, dtype: object\n",
            "sliced data\n",
            "         Position  Level   Salary\n",
            "6         Partner      7   200000\n",
            "7  Senior Partner      8   300000\n",
            "8         C-level      9   500000\n",
            "9             CEO     10  1000000\n",
            "Position    Business Analyst\n",
            "Level                      1\n",
            "Salary                 45000\n",
            "Name: 0, dtype: object\n",
            "   Level  Salary\n",
            "0      1   45000\n",
            "1      2   50000\n",
            "2      3   60000\n",
            "3      4   80000\n",
            "4      5  110000\n",
            "            Position  Level\n",
            "0   Business Analyst      1\n",
            "1  Junior Consultant      2\n",
            "2  Senior Consultant      3\n",
            "3            Manager      4\n",
            "4    Country Manager      5\n"
          ]
        }
      ]
    },
    {
      "cell_type": "markdown",
      "source": [
        "Q2. Data Cleaning and Preparation\n",
        "\n",
        "• Identify missing values using isnull and isna.\n",
        "\n",
        "• Handle missing values using fillna, dropna, interpolation.\n",
        "\n",
        "• Apply scaling techniques (min-max, z-score) to numerical\n",
        "columns.\n",
        "\n",
        "• Create dummy variables for categorical columns."
      ],
      "metadata": {
        "id": "zS1iEWsdf56I"
      }
    },
    {
      "cell_type": "code",
      "source": [
        "df = pd.DataFrame({\n",
        "    'A':[1,2,None,4],\n",
        "    'B':[None,'b','c','d'],\n",
        "    'C':[1.0,None,3.0,4.0]\n",
        "}\n",
        ")\n",
        "# Check for missing values\n",
        "print(\"Missing values in DataFrame (isnull):\")\n",
        "print(df.isnull())  # Returns a boolean DataFrame\n",
        "\n",
        "print(\"\\nCount of missing values per column:\")\n",
        "print(df.isnull().sum())"
      ],
      "metadata": {
        "colab": {
          "base_uri": "https://localhost:8080/"
        },
        "id": "6Nkhs8Waf_43",
        "outputId": "dfca93e9-5a27-4477-c410-3ba51cf9148e"
      },
      "execution_count": 36,
      "outputs": [
        {
          "output_type": "stream",
          "name": "stdout",
          "text": [
            "Missing values in DataFrame (isnull):\n",
            "       A      B      C\n",
            "0  False   True  False\n",
            "1  False  False   True\n",
            "2   True  False  False\n",
            "3  False  False  False\n",
            "\n",
            "Count of missing values per column:\n",
            "A    1\n",
            "B    1\n",
            "C    1\n",
            "dtype: int64\n"
          ]
        }
      ]
    },
    {
      "cell_type": "code",
      "source": [
        "df_filled =df.fillna({'A':0,'B':'unknown','C':df['C'].mean()})\n",
        "print(df_filled)\n"
      ],
      "metadata": {
        "colab": {
          "base_uri": "https://localhost:8080/"
        },
        "id": "bvR1r9NdjAn3",
        "outputId": "f8364a5f-1b49-4e25-e1fa-91f03c146fe5"
      },
      "execution_count": 37,
      "outputs": [
        {
          "output_type": "stream",
          "name": "stdout",
          "text": [
            "     A        B         C\n",
            "0  1.0  unknown  1.000000\n",
            "1  2.0        b  2.666667\n",
            "2  0.0        c  3.000000\n",
            "3  4.0        d  4.000000\n"
          ]
        }
      ]
    },
    {
      "cell_type": "code",
      "source": [
        "dropped=df.dropna(axis=1)\n",
        "print(dropped)"
      ],
      "metadata": {
        "colab": {
          "base_uri": "https://localhost:8080/"
        },
        "id": "9Ft6pe9tjf4I",
        "outputId": "8e0f3d28-25cc-48f6-eac1-b253c880aa2c"
      },
      "execution_count": 38,
      "outputs": [
        {
          "output_type": "stream",
          "name": "stdout",
          "text": [
            "Empty DataFrame\n",
            "Columns: []\n",
            "Index: [0, 1, 2, 3]\n"
          ]
        }
      ]
    },
    {
      "cell_type": "code",
      "source": [
        "df_interpolated=df.interpolate()\n",
        "print(df_interpolated)"
      ],
      "metadata": {
        "colab": {
          "base_uri": "https://localhost:8080/"
        },
        "id": "ewm2z5MVjl32",
        "outputId": "beafcb94-d210-40a2-ffa6-9712f4b58b0e"
      },
      "execution_count": 40,
      "outputs": [
        {
          "output_type": "stream",
          "name": "stdout",
          "text": [
            "     A     B    C\n",
            "0  1.0  None  1.0\n",
            "1  2.0     b  2.0\n",
            "2  3.0     c  3.0\n",
            "3  4.0     d  4.0\n"
          ]
        },
        {
          "output_type": "stream",
          "name": "stderr",
          "text": [
            "<ipython-input-40-1f2e7d3e4669>:1: FutureWarning: DataFrame.interpolate with object dtype is deprecated and will raise in a future version. Call obj.infer_objects(copy=False) before interpolating instead.\n",
            "  df_interpolated=df.interpolate()\n"
          ]
        }
      ]
    },
    {
      "cell_type": "code",
      "source": [
        "from sklearn.preprocessing import MinMaxScaler\n",
        "sccaler = MinMaxScaler()\n",
        "df[['A','C']]=scaler.fit_transform(df[['A','C']])\n",
        "print(df)"
      ],
      "metadata": {
        "colab": {
          "base_uri": "https://localhost:8080/"
        },
        "id": "64qfmWIoj1Wh",
        "outputId": "b4931171-02c3-4902-9e25-d71d31d301f6"
      },
      "execution_count": 41,
      "outputs": [
        {
          "output_type": "stream",
          "name": "stdout",
          "text": [
            "          A     B         C\n",
            "0  0.000000  None  0.000000\n",
            "1  0.333333     b       NaN\n",
            "2       NaN     c  0.666667\n",
            "3  1.000000     d  1.000000\n"
          ]
        }
      ]
    },
    {
      "cell_type": "code",
      "source": [
        "from sklearn.preprocessing import StandardScaler\n",
        "\n",
        "scaler_std = StandardScaler()\n",
        "df[[\"A\",'C']] = scaler.fit_transform(df[[\"A\",'C']])\n",
        "print(df)\n"
      ],
      "metadata": {
        "colab": {
          "base_uri": "https://localhost:8080/"
        },
        "id": "7i2NJjRijyTd",
        "outputId": "5ff6103a-f649-4944-f9a2-9a8355717b70"
      },
      "execution_count": 42,
      "outputs": [
        {
          "output_type": "stream",
          "name": "stdout",
          "text": [
            "          A     B         C\n",
            "0  0.000000  None  0.000000\n",
            "1  0.333333     b       NaN\n",
            "2       NaN     c  0.666667\n",
            "3  1.000000     d  1.000000\n"
          ]
        }
      ]
    },
    {
      "cell_type": "code",
      "source": [
        "df = pd.DataFrame({\n",
        "'Category': ['A', 'B', 'A', 'c']\n",
        "                    })\n",
        "# Create dummy variables\n",
        "df_dummies = pd.get_dummies (df, columns=['Category'])\n",
        "df_dummies = pd.get_dummies (df, columns=['Category'], drop_first=True)\n",
        "print(df_dummies)"
      ],
      "metadata": {
        "colab": {
          "base_uri": "https://localhost:8080/"
        },
        "id": "3BGP5mpJkUmf",
        "outputId": "a7e80759-4d2b-4395-e2ee-3ae6b2b68812"
      },
      "execution_count": 51,
      "outputs": [
        {
          "output_type": "stream",
          "name": "stdout",
          "text": [
            "   Category_B  Category_c\n",
            "0       False       False\n",
            "1        True       False\n",
            "2       False       False\n",
            "3       False        True\n"
          ]
        }
      ]
    },
    {
      "cell_type": "markdown",
      "source": [
        "Q3. Aggregation and Grouping:\n",
        "\n",
        "Calculate summary statistics (mean, median, count, etc.) using\n",
        "groupby.\n",
        "\n",
        "Create pivot tables for data summarization.\n",
        "\n",
        "Combine DataFrames using concat, merge, and join.\n",
        "\n",
        "Practice different join types (inner, outer, left, right)."
      ],
      "metadata": {
        "id": "zU9jf_S2kPOX"
      }
    },
    {
      "cell_type": "code",
      "source": [
        "df = pd.DataFrame({\n",
        "    'category': ['A', 'B', 'A', 'B', 'C', 'C'],\n",
        "    'value': [10, 20, 30, 40, 50, 60]\n",
        "})\n"
      ],
      "metadata": {
        "id": "99g7vKhRlbO8"
      },
      "execution_count": 43,
      "outputs": []
    },
    {
      "cell_type": "code",
      "source": [
        "# Group by 'category' and calculate summary statistics\n",
        "grouped = df.groupby('category').agg(\n",
        "    mean_value=('value', 'mean'),\n",
        "    sum_value=('value', 'sum'),\n",
        "    count_value=('value', 'count')\n",
        ")\n",
        "print(\"Grouped Summary Statistics:\")\n",
        "print(grouped)\n"
      ],
      "metadata": {
        "colab": {
          "base_uri": "https://localhost:8080/"
        },
        "id": "3mhZZitKkSAH",
        "outputId": "811dd780-aab7-48a3-dcee-1100dd483028"
      },
      "execution_count": 44,
      "outputs": [
        {
          "output_type": "stream",
          "name": "stdout",
          "text": [
            "Grouped Summary Statistics:\n",
            "          mean_value  sum_value  count_value\n",
            "category                                    \n",
            "A               20.0         40            2\n",
            "B               30.0         60            2\n",
            "C               55.0        110            2\n"
          ]
        }
      ]
    },
    {
      "cell_type": "code",
      "source": [
        "# Pivot table showing the sum of 'value' for each 'category'\n",
        "pivot = pd.pivot_table(df, values='value', index='category', aggfunc='sum')\n",
        "print(\"\\nPivot Table (Sum of 'value' by 'category'):\")\n",
        "print(pivot)\n"
      ],
      "metadata": {
        "colab": {
          "base_uri": "https://localhost:8080/"
        },
        "id": "Wa2cQA_8llKG",
        "outputId": "9877535b-fe71-4258-ffa9-5d06bc7ba20e"
      },
      "execution_count": 45,
      "outputs": [
        {
          "output_type": "stream",
          "name": "stdout",
          "text": [
            "\n",
            "Pivot Table (Sum of 'value' by 'category'):\n",
            "          value\n",
            "category       \n",
            "A            40\n",
            "B            60\n",
            "C           110\n"
          ]
        }
      ]
    },
    {
      "cell_type": "code",
      "source": [
        "# Create another DataFrame for concatenation\n",
        "df2 = pd.DataFrame({'category': ['D', 'E'], 'value': [70, 80]})\n",
        "concat_df = pd.concat([df, df2], ignore_index=True)\n",
        "print(\"\\nConcatenated DataFrame:\")\n",
        "print(concat_df)\n"
      ],
      "metadata": {
        "colab": {
          "base_uri": "https://localhost:8080/"
        },
        "id": "LxXvTn1IlnYy",
        "outputId": "94857a47-a851-4a55-f597-43a9bada0c8d"
      },
      "execution_count": 46,
      "outputs": [
        {
          "output_type": "stream",
          "name": "stdout",
          "text": [
            "\n",
            "Concatenated DataFrame:\n",
            "  category  value\n",
            "0        A     10\n",
            "1        B     20\n",
            "2        A     30\n",
            "3        B     40\n",
            "4        C     50\n",
            "5        C     60\n",
            "6        D     70\n",
            "7        E     80\n"
          ]
        }
      ]
    },
    {
      "cell_type": "code",
      "source": [
        "# Create another DataFrame for merging\n",
        "df3 = pd.DataFrame({'category': ['A', 'B', 'C'], 'extra': [100, 200, 300]})\n",
        "merged_df = pd.merge(df, df3, on='category', how='inner')  # Inner join\n",
        "print(\"\\nMerged DataFrame (Inner Join):\")\n",
        "print(merged_df)\n"
      ],
      "metadata": {
        "colab": {
          "base_uri": "https://localhost:8080/"
        },
        "id": "XE8RSUxHlqZb",
        "outputId": "5e946aba-c77d-4dc5-9120-3b874d47f1d2"
      },
      "execution_count": 47,
      "outputs": [
        {
          "output_type": "stream",
          "name": "stdout",
          "text": [
            "\n",
            "Merged DataFrame (Inner Join):\n",
            "  category  value  extra\n",
            "0        A     10    100\n",
            "1        B     20    200\n",
            "2        A     30    100\n",
            "3        B     40    200\n",
            "4        C     50    300\n",
            "5        C     60    300\n"
          ]
        }
      ]
    },
    {
      "cell_type": "code",
      "source": [
        "# Use `join` with indices\n",
        "df4 = pd.DataFrame({'extra': [100, 200, 300, 400, 500, 600]}, index=df.index)\n",
        "joined_df = df.join(df4)\n",
        "print(\"\\nJoined DataFrame:\")\n",
        "print(joined_df)\n"
      ],
      "metadata": {
        "colab": {
          "base_uri": "https://localhost:8080/"
        },
        "id": "IUOkcg6UlsL6",
        "outputId": "91a8820d-62a2-43cc-bd02-266e15cc08b0"
      },
      "execution_count": 48,
      "outputs": [
        {
          "output_type": "stream",
          "name": "stdout",
          "text": [
            "\n",
            "Joined DataFrame:\n",
            "  category  value  extra\n",
            "0        A     10    100\n",
            "1        B     20    200\n",
            "2        A     30    300\n",
            "3        B     40    400\n",
            "4        C     50    500\n",
            "5        C     60    600\n"
          ]
        }
      ]
    },
    {
      "cell_type": "code",
      "source": [
        "# Outer Join\n",
        "outer_join = pd.merge(df, df3, on='category', how='outer')\n",
        "print(\"\\nOuter Join:\")\n",
        "print(outer_join)\n",
        "\n",
        "# Left Join\n",
        "left_join = pd.merge(df, df3, on='category', how='left')\n",
        "print(\"\\nLeft Join:\")\n",
        "print(left_join)\n",
        "\n",
        "# Right Join\n",
        "right_join = pd.merge(df, df3, on='category', how='right')\n",
        "print(\"\\nRight Join:\")\n",
        "print(right_join)\n"
      ],
      "metadata": {
        "colab": {
          "base_uri": "https://localhost:8080/"
        },
        "id": "L80uedMXluAD",
        "outputId": "966a85ba-f81d-418e-f4d4-fed1cae990b3"
      },
      "execution_count": 49,
      "outputs": [
        {
          "output_type": "stream",
          "name": "stdout",
          "text": [
            "\n",
            "Outer Join:\n",
            "  category  value  extra\n",
            "0        A     10    100\n",
            "1        A     30    100\n",
            "2        B     20    200\n",
            "3        B     40    200\n",
            "4        C     50    300\n",
            "5        C     60    300\n",
            "\n",
            "Left Join:\n",
            "  category  value  extra\n",
            "0        A     10    100\n",
            "1        B     20    200\n",
            "2        A     30    100\n",
            "3        B     40    200\n",
            "4        C     50    300\n",
            "5        C     60    300\n",
            "\n",
            "Right Join:\n",
            "  category  value  extra\n",
            "0        A     10    100\n",
            "1        A     30    100\n",
            "2        B     20    200\n",
            "3        B     40    200\n",
            "4        C     50    300\n",
            "5        C     60    300\n"
          ]
        }
      ]
    }
  ]
}
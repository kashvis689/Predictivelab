{
 "cells": [
  {
   "cell_type": "code",
   "execution_count": 1,
   "id": "ec1a38f1-8fa0-4594-81e6-8af00f99cd5a",
   "metadata": {},
   "outputs": [
    {
     "name": "stdout",
     "output_type": "stream",
     "text": [
      "Tuple of colors: ('red', 'blue', 'green', 'yellow', 'blue', 'green', 'blue')\n",
      "\n",
      "First color: red\n",
      "Last color: blue\n",
      "\n",
      "Error when trying to modify the tuple: 'tuple' object does not support item assignment\n",
      "\n",
      "Occurrences of 'blue': 3\n"
     ]
    }
   ],
   "source": [
    "# Q1.  Create and access tuples.\n",
    "# o\tCreate a tuple of colors.\n",
    "# o\tAccess elements using indexing.\n",
    "# o\tTry to modify an element in the tuple (to demonstrate immutability).\n",
    "# o\tFind the number of occurrences of a specific element in the tuple.\n",
    "\n",
    "colors = (\"red\", \"blue\", \"green\", \"yellow\", \"blue\", \"green\", \"blue\")\n",
    "print(\"Tuple of colors:\", colors)\n",
    "\n",
    "first_color = colors[0]\n",
    "last_color = colors[-1]\n",
    "print(\"\\nFirst color:\", first_color)\n",
    "print(\"Last color:\", last_color)\n",
    "\n",
    "try:\n",
    "    colors[1] = \"purple\"  \n",
    "except TypeError as e:\n",
    "    print(\"\\nError when trying to modify the tuple:\", e)\n",
    "\n",
    "blue_count = colors.count(\"blue\")\n",
    "print(\"\\nOccurrences of 'blue':\", blue_count)\n"
   ]
  },
  {
   "cell_type": "code",
   "execution_count": 2,
   "id": "9b6e3291-d8c3-4202-9ec7-91eb605b6473",
   "metadata": {},
   "outputs": [
    {
     "name": "stdout",
     "output_type": "stream",
     "text": [
      "Person dictionary: {'name': 'Anuj', 'age': 25, 'city': 'India'}\n",
      "\n",
      "Name: Anuj\n",
      "Age: 25\n",
      "City: India\n",
      "\n",
      "Dictionary after adding email: {'name': 'Anuj', 'age': 25, 'city': 'India', 'email': 'anuj@gmail.com'}\n",
      "\n",
      "Dictionary after updating age: {'name': 'Anuj', 'age': 26, 'city': 'India', 'email': 'anuj@gmail.com'}\n",
      "\n",
      "'city' key exists in the dictionary\n",
      "\n",
      "All keys: ['name', 'age', 'city', 'email']\n",
      "All values: ['Anuj', 26, 'India', 'anuj@gmail.com']\n"
     ]
    }
   ],
   "source": [
    "# Q2.  Create and manipulate dictionaries.\n",
    "# o\tCreate a dictionary to store information about a person (name, age, city).\n",
    "# o\tAccess values using keys.\n",
    "# o\tAdd a new key-value pair to the dictionary.\n",
    "# o\tModify an existing value.\n",
    "# o\tCheck if a key exists in the dictionary.\n",
    "# o\tGet a list of all keys and values.\n",
    "\n",
    "person = {\"name\": \"Anuj\", \"age\": 25, \"city\": \"India\"}\n",
    "print(\"Person dictionary:\", person)\n",
    "\n",
    "print(\"\\nName:\", person[\"name\"])\n",
    "print(\"Age:\", person[\"age\"])\n",
    "print(\"City:\", person[\"city\"])\n",
    "\n",
    "person[\"email\"] = \"anuj@gmail.com\"\n",
    "print(\"\\nDictionary after adding email:\", person)\n",
    "\n",
    "person[\"age\"] = 26\n",
    "print(\"\\nDictionary after updating age:\", person)\n",
    "\n",
    "if \"city\" in person:\n",
    "    print(\"\\n'city' key exists in the dictionary\")\n",
    "\n",
    "keys = person.keys()\n",
    "values = person.values()\n",
    "print(\"\\nAll keys:\", list(keys))\n",
    "print(\"All values:\", list(values))\n"
   ]
  },
  {
   "cell_type": "code",
   "execution_count": 3,
   "id": "22cd2b3b-42c1-4995-baaa-b6ac69ed2997",
   "metadata": {},
   "outputs": [
    {
     "name": "stdout",
     "output_type": "stream",
     "text": [
      "Original list: [1, 2, 3, 4]\n",
      "Modified list: [1, 2, 99, 4]\n",
      "Original tuple: (1, 2, 3, 4)\n",
      "Error: 'tuple' object does not support item assignment\n"
     ]
    }
   ],
   "source": [
    "# Q3. Demonstrate the difference between mutable and immutable data types.\n",
    "# o\tCreate a list and a tuple.\n",
    "# o\tTry to modify an element in both the list and the tuple.\n",
    "# o\tObserve the results and explain the difference.\n",
    "\n",
    "my_list = [1, 2, 3, 4]\n",
    "print(\"Original list:\", my_list)\n",
    "\n",
    "my_list[2] = 99\n",
    "print(\"Modified list:\", my_list)\n",
    "\n",
    "my_tuple = (1, 2, 3, 4)\n",
    "print(\"Original tuple:\", my_tuple)\n",
    "\n",
    "try:\n",
    "    my_tuple[2] = 99\n",
    "except TypeError as e:\n",
    "    print(\"Error:\", e)\n"
   ]
  },
  {
   "cell_type": "code",
   "execution_count": 4,
   "id": "0045c16c-08b8-4a1d-a0cd-4acca85d7f37",
   "metadata": {},
   "outputs": [
    {
     "name": "stdin",
     "output_type": "stream",
     "text": [
      "Enter a number to print its multiplication table:  5\n"
     ]
    },
    {
     "name": "stdout",
     "output_type": "stream",
     "text": [
      "Multiplication table for 5:\n",
      "5 x 1 = 5\n",
      "5 x 2 = 10\n",
      "5 x 3 = 15\n",
      "5 x 4 = 20\n",
      "5 x 5 = 25\n",
      "5 x 6 = 30\n",
      "5 x 7 = 35\n",
      "5 x 8 = 40\n",
      "5 x 9 = 45\n",
      "5 x 10 = 50\n"
     ]
    }
   ],
   "source": [
    "# Q4. Create a program to print the multiplication table of a number.\n",
    "# o\tTake a number as input from the user.\n",
    "# o\tUse a for loop to iterate from 1 to 10.\n",
    "# o\tCalculate the product of the input number and the current iteration.\n",
    "# o\tPrint the multiplication table.\n",
    "\n",
    "number = int(input(\"Enter a number to print its multiplication table: \"))\n",
    "\n",
    "\n",
    "print(f\"Multiplication table for {number}:\")\n",
    "for i in range(1, 11):\n",
    "    \n",
    "    product = number * i\n",
    "    \n",
    "    print(f\"{number} x {i} = {product}\")\n"
   ]
  },
  {
   "cell_type": "code",
   "execution_count": 7,
   "id": "7709d548-12e8-4a6d-a488-00107121a92e",
   "metadata": {},
   "outputs": [
    {
     "name": "stdin",
     "output_type": "stream",
     "text": [
      "Enter a number to find its factorial:  5\n"
     ]
    },
    {
     "name": "stdout",
     "output_type": "stream",
     "text": [
      "Factorial of 5 is 120\n"
     ]
    }
   ],
   "source": [
    "# Q5. Create a program to find the factorial of a number using a loop and conditional statements.\n",
    "\n",
    "number = int(input(\"Enter a number to find its factorial: \"))\n",
    "\n",
    "factorial = 1\n",
    "\n",
    "if number < 0:\n",
    "    print(\"Factorial is not defined for negative numbers.\")\n",
    "elif number == 0:\n",
    "    print(\"Factorial of 0 is 1.\")\n",
    "else:\n",
    "    for i in range(1, number + 1):\n",
    "        factorial *= i\n",
    "    print(f\"Factorial of {number} is {factorial}\")\n"
   ]
  },
  {
   "cell_type": "code",
   "execution_count": 8,
   "id": "db09b6ec-4192-4079-b505-3ea27054faf4",
   "metadata": {},
   "outputs": [
    {
     "name": "stdin",
     "output_type": "stream",
     "text": [
      "Enter a number to check if it is prime:  5\n"
     ]
    },
    {
     "name": "stdout",
     "output_type": "stream",
     "text": [
      "5 is a prime number.\n"
     ]
    }
   ],
   "source": [
    "# Q6. Write a program to check if a given number is prime.\n",
    "\n",
    "number = int(input(\"Enter a number to check if it is prime: \"))\n",
    "\n",
    "if number <= 1:\n",
    "    print(f\"{number} is not a prime number.\")\n",
    "else:\n",
    "    is_prime = True\n",
    "    for i in range(2, int(number ** 0.5) + 1):\n",
    "        if number % i == 0:\n",
    "            is_prime = False\n",
    "            break\n",
    "\n",
    "    if is_prime:\n",
    "        print(f\"{number} is a prime number.\")\n",
    "    else:\n",
    "        print(f\"{number} is not a prime number.\")\n"
   ]
  },
  {
   "cell_type": "code",
   "execution_count": 9,
   "id": "4cddc6e2-5d5f-4279-b6bd-c81f1de5d460",
   "metadata": {},
   "outputs": [
    {
     "name": "stdout",
     "output_type": "stream",
     "text": [
      "The sum of all even numbers between 1 and 100 is 2550\n"
     ]
    }
   ],
   "source": [
    "# Q7. Create a program to find the sum of all even numbers between 1 and 100.\n",
    "\n",
    "sum_even = 0\n",
    "\n",
    "for i in range(1, 101):\n",
    "    if i % 2 == 0:  \n",
    "        sum_even += i\n",
    "\n",
    "print(f\"The sum of all even numbers between 1 and 100 is {sum_even}\")\n",
    "\n"
   ]
  },
  {
   "cell_type": "code",
   "execution_count": 10,
   "id": "c67c4b85-6e4b-4cbf-9cd0-265b54832f89",
   "metadata": {},
   "outputs": [
    {
     "name": "stdout",
     "output_type": "stream",
     "text": [
      "\n",
      "Simple Calculator\n",
      "1. Add\n",
      "2. Subtract\n",
      "3. Multiply\n",
      "4. Divide\n",
      "5. Exit\n"
     ]
    },
    {
     "name": "stdin",
     "output_type": "stream",
     "text": [
      "Enter choice (1/2/3/4/5):  1\n",
      "Enter first number:  34\n",
      "Enter second number:  56\n"
     ]
    },
    {
     "name": "stdout",
     "output_type": "stream",
     "text": [
      "34.0 + 56.0 = 90.0\n",
      "\n",
      "Simple Calculator\n",
      "1. Add\n",
      "2. Subtract\n",
      "3. Multiply\n",
      "4. Divide\n",
      "5. Exit\n"
     ]
    },
    {
     "name": "stdin",
     "output_type": "stream",
     "text": [
      "Enter choice (1/2/3/4/5):  2\n",
      "Enter first number:  45\n",
      "Enter second number:  7\n"
     ]
    },
    {
     "name": "stdout",
     "output_type": "stream",
     "text": [
      "45.0 - 7.0 = 38.0\n",
      "\n",
      "Simple Calculator\n",
      "1. Add\n",
      "2. Subtract\n",
      "3. Multiply\n",
      "4. Divide\n",
      "5. Exit\n"
     ]
    },
    {
     "name": "stdin",
     "output_type": "stream",
     "text": [
      "Enter choice (1/2/3/4/5):  3\n",
      "Enter first number:  2\n",
      "Enter second number:  7\n"
     ]
    },
    {
     "name": "stdout",
     "output_type": "stream",
     "text": [
      "2.0 * 7.0 = 14.0\n",
      "\n",
      "Simple Calculator\n",
      "1. Add\n",
      "2. Subtract\n",
      "3. Multiply\n",
      "4. Divide\n",
      "5. Exit\n"
     ]
    },
    {
     "name": "stdin",
     "output_type": "stream",
     "text": [
      "Enter choice (1/2/3/4/5):  4\n",
      "Enter first number:  66\n",
      "Enter second number:  11\n"
     ]
    },
    {
     "name": "stdout",
     "output_type": "stream",
     "text": [
      "66.0 / 11.0 = 6.0\n",
      "\n",
      "Simple Calculator\n",
      "1. Add\n",
      "2. Subtract\n",
      "3. Multiply\n",
      "4. Divide\n",
      "5. Exit\n"
     ]
    },
    {
     "name": "stdin",
     "output_type": "stream",
     "text": [
      "Enter choice (1/2/3/4/5):  5\n"
     ]
    },
    {
     "name": "stdout",
     "output_type": "stream",
     "text": [
      "Exiting...\n"
     ]
    }
   ],
   "source": [
    "# Q8. Implement a simple calculator using conditional statements and loops.\n",
    "\n",
    "while True:\n",
    "    print(\"\\nSimple Calculator\")\n",
    "    print(\"1. Add\")\n",
    "    print(\"2. Subtract\")\n",
    "    print(\"3. Multiply\")\n",
    "    print(\"4. Divide\")\n",
    "    print(\"5. Exit\")\n",
    "\n",
    "    choice = input(\"Enter choice (1/2/3/4/5): \")\n",
    "\n",
    "    if choice == '5':\n",
    "        print(\"Exiting...\")\n",
    "        break\n",
    "    if choice in ['1', '2', '3', '4']:\n",
    "        num1 = float(input(\"Enter first number: \"))\n",
    "        num2 = float(input(\"Enter second number: \"))\n",
    "        if choice == '1':\n",
    "            result = num1 + num2\n",
    "            print(f\"{num1} + {num2} = {result}\")\n",
    "        elif choice == '2':\n",
    "            result = num1 - num2\n",
    "            print(f\"{num1} - {num2} = {result}\")\n",
    "        elif choice == '3':\n",
    "            result = num1 * num2\n",
    "            print(f\"{num1} * {num2} = {result}\")\n",
    "        elif choice == '4':\n",
    "            if num2 != 0:\n",
    "                result = num1 / num2\n",
    "                print(f\"{num1} / {num2} = {result}\")\n",
    "            else:\n",
    "                print(\"Error: Division by zero is not allowed.\")\n",
    "    else:\n",
    "        print(\"Invalid choice. Please select a valid option.\")\n"
   ]
  },
  {
   "cell_type": "code",
   "execution_count": null,
   "id": "bb08e688-d1f5-4e5f-9dca-18745cd366a9",
   "metadata": {},
   "outputs": [],
   "source": []
  }
 ],
 "metadata": {
  "kernelspec": {
   "display_name": "Python 3 (ipykernel)",
   "language": "python",
   "name": "python3"
  },
  "language_info": {
   "codemirror_mode": {
    "name": "ipython",
    "version": 3
   },
   "file_extension": ".py",
   "mimetype": "text/x-python",
   "name": "python",
   "nbconvert_exporter": "python",
   "pygments_lexer": "ipython3",
   "version": "3.12.5"
  }
 },
 "nbformat": 4,
 "nbformat_minor": 5
}

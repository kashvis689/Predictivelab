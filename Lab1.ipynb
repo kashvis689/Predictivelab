{
 "cells": [
  {
   "cell_type": "code",
   "execution_count": 2,
   "id": "ec57a039-8f41-4331-8611-7dfb47cbf603",
   "metadata": {},
   "outputs": [
    {
     "name": "stdin",
     "output_type": "stream",
     "text": [
      "Enter the first number:  12\n",
      "Enter the second number:  6\n"
     ]
    },
    {
     "name": "stdout",
     "output_type": "stream",
     "text": [
      "Addition: 18.0\n",
      "Subtraction: 6.0\n",
      "Multiplication: 72.0\n",
      "Division: 2.0\n",
      "Modulus: 0.0\n"
     ]
    }
   ],
   "source": [
    "# \n",
    "\n",
    "# Q1. Write a Python program to perform basic arithmetic opera􀆟ons (addition, subtraction,multplication, division, and modulus) on two numbers.\n",
    "# 1)Prompt the user to enter two numbers.\n",
    "# 2)Perform the arithmetic opera􀆟ons and print the results.\n",
    "# 3)Use appropriate operators and print forma􀆫ng for clear output.\n",
    "\n",
    "\n",
    "num1 = float(input(\"Enter the first number: \"))\n",
    "num2 = float(input(\"Enter the second number: \"))\n",
    "print(\"Addition:\", num1 + num2)\n",
    "print(\"Subtraction:\", num1 - num2)\n",
    "print(\"Multiplication:\", num1 * num2)\n",
    "if num2 != 0:\n",
    "    print(\"Division:\", num1 / num2)\n",
    "    print(\"Modulus:\", num1 % num2)\n",
    "else:\n",
    "    print(\"Division: undefined (cannot divide by zero)\")\n",
    "    print(\"Modulus: undefined (cannot divide by zero)\")"
   ]
  },
  {
   "cell_type": "code",
   "execution_count": 7,
   "id": "e4478829-a1b0-4b1c-b406-2526ec706c1e",
   "metadata": {},
   "outputs": [
    {
     "name": "stdout",
     "output_type": "stream",
     "text": [
      "Addition (Integer + Float): 30.5\n",
      "Subtraction (Integer - Float): -10.5\n",
      "Multiplication (Integer * Float): 205.0\n",
      "Division (Integer / Float): 0.4878048780487805\n",
      "Modulus (Integer % Float): 10.0\n",
      "String Concatenation: How are you\n",
      "Boolean AND (stringl and string2): hi how are you\n",
      "Boolean OR (stringl or string2): myself Anuj\n",
      "Boolean NOT (not stringl): False\n",
      "Boolean NOT (not string2): False\n"
     ]
    }
   ],
   "source": [
    "# Q2. Create variables of different data types (integer, float, string, boolean) and perform basic operations on them.\n",
    "# Assign values to variables of different data types.\n",
    "# Perform arithmetic operations on numeric data types.\n",
    "# Concatenate strings using the + operator.\n",
    "# Use logical operators to evaluate boolean expressions.\n",
    "\n",
    "\n",
    "integer = 10\n",
    "floating = 20.5\n",
    "string = \"How are\"\n",
    "boolean = True\n",
    "stringl = \"myself Anuj\"\n",
    "string2 = \"hi how are you\"\n",
    "\n",
    "print(\"Addition (Integer + Float):\", integer + floating)\n",
    "print(\"Subtraction (Integer - Float):\", integer - floating)\n",
    "print(\"Multiplication (Integer * Float):\", integer * floating)\n",
    "print(\"Division (Integer / Float):\", integer / floating)\n",
    "print(\"Modulus (Integer % Float):\", integer % floating)\n",
    "print(\"String Concatenation:\", string + \" you\")\n",
    "print(\"Boolean AND (stringl and string2):\", stringl and string2)\n",
    "print(\"Boolean OR (stringl or string2):\", stringl or string2)\n",
    "print(\"Boolean NOT (not stringl):\", not stringl)\n",
    "print(\"Boolean NOT (not string2):\", not string2)\n"
   ]
  },
  {
   "cell_type": "code",
   "execution_count": 8,
   "id": "78d2a483-313a-4d45-989e-035600de79e4",
   "metadata": {},
   "outputs": [
    {
     "name": "stdin",
     "output_type": "stream",
     "text": [
      "Enter your name:  anuj\n"
     ]
    },
    {
     "name": "stdout",
     "output_type": "stream",
     "text": [
      "Hello, anuj, how are you?\n"
     ]
    },
    {
     "name": "stdin",
     "output_type": "stream",
     "text": [
      "Enter your birth year:  2000\n"
     ]
    },
    {
     "name": "stdout",
     "output_type": "stream",
     "text": [
      "anuj, you are 24 years old.\n"
     ]
    }
   ],
   "source": [
    "# Q3. Write a program to take user input, process it, and display the result.\n",
    "# Prompt the user to enter their name.\n",
    "# Greet the user using their name.\n",
    "# Calculate and print the user's age based on their birth year.\n",
    "\n",
    "\n",
    "name = input(\"Enter your name: \")\n",
    "print(\"Hello, \" + name + \", how are you?\")\n",
    "birth_year = int(input(\"Enter your birth year: \"))\n",
    "year = 2024\n",
    "age = year - birth_year\n",
    "print(name + \", you are \" + str(age) + \" years old.\")\n"
   ]
  },
  {
   "cell_type": "code",
   "execution_count": 9,
   "id": "3af875a3-1e86-4135-aae1-4534594def2e",
   "metadata": {},
   "outputs": [
    {
     "name": "stdin",
     "output_type": "stream",
     "text": [
      "Enter a number:  12\n"
     ]
    },
    {
     "name": "stdout",
     "output_type": "stream",
     "text": [
      "The number 12 is even.\n"
     ]
    }
   ],
   "source": [
    "# Q4. Write a program to check if a number is even or odd.\n",
    "# Prompt the user to enter a number.\n",
    "# Use the modulus operator to determine if the number is even or odd.\n",
    "# Print the appropriate message.\n",
    "\n",
    "num = int(input(\"Enter a number: \"))\n",
    "if num % 2 == 0:\n",
    "    print(\"The number\", num, \"is even.\")\n",
    "else:\n",
    "    print(\"The number\", num, \"is odd.\")\n"
   ]
  },
  {
   "cell_type": "code",
   "execution_count": 12,
   "id": "34cfd6cd-4168-4425-a8a7-ba950b5a44fa",
   "metadata": {},
   "outputs": [
    {
     "name": "stdout",
     "output_type": "stream",
     "text": [
      "Using for loop:\n",
      "1\n",
      "2\n",
      "3\n",
      "4\n",
      "5\n",
      "6\n",
      "7\n",
      "8\n",
      "9\n",
      "10\n",
      "\n",
      "\n",
      "Using while loop:\n",
      "1\n",
      "2\n",
      "3\n",
      "4\n",
      "5\n",
      "6\n",
      "7\n",
      "8\n",
      "9\n",
      "10\n"
     ]
    }
   ],
   "source": [
    "# Q5. Write a program to print the numbers from 1 to 10 using both for and while loops.\n",
    "# Use a for loop to iterate through a range of numbers.\n",
    "# Use a while loop with a counter variable.\n",
    "print(\"Using for loop:\")\n",
    "for number in range(1, 11):\n",
    "    print(number)\n",
    "print(\"\\n\")\n",
    "\n",
    "print(\"Using while loop:\")\n",
    "i = 1\n",
    "while i <= 10:\n",
    "    print(i)\n",
    "    i += 1\n"
   ]
  },
  {
   "cell_type": "code",
   "execution_count": 18,
   "id": "3e30d8b7-9d1b-44b0-b070-99c83c804d59",
   "metadata": {},
   "outputs": [
    {
     "name": "stdout",
     "output_type": "stream",
     "text": [
      "Original list: ['apple', 'banana', 'grapes', 'papaya', 'mango']\n",
      "First fruit: apple\n",
      "Third fruit: grapes\n",
      "Modified list: ['apple', 'blueberry', 'grapes', 'papaya', 'mango']\n",
      "List after adding elements: ['apple', 'blueberry', 'pineapple', 'grapes', 'papaya', 'mango', 'kiwi']\n",
      "List after removing elements: ['apple', 'blueberry', 'pineapple', 'grapes', 'kiwi']\n",
      "Length of the list: 5\n",
      "Sorted list (ascending): ['apple', 'blueberry', 'grapes', 'kiwi', 'pineapple']\n",
      "Sorted list (descending): ['pineapple', 'kiwi', 'grapes', 'blueberry', 'apple']\n"
     ]
    }
   ],
   "source": [
    "# Q6. Create a list, access elements, modify elements, and perform list operations.\n",
    "# Create a list of fruits.\n",
    "# Access elements using indexing.\n",
    "# Modify elements in the list.\n",
    "# Add and remove elements from the list.\n",
    "# Find the length of the list.\n",
    "# Sort the list in ascending and descending order.\n",
    "\n",
    "\n",
    "fruits = [\"apple\", \"banana\", \"grapes\", \"papaya\", \"mango\"]\n",
    "print(\"Original list:\" , fruits)\n",
    "print(\"First fruit:\" , fruits[0])\n",
    "print(\"Third fruit:\" , fruits[2])\n",
    "fruits[1] = \"blueberry\"\n",
    "print(\"Modified list:\", fruits)\n",
    "fruits.append(\"kiwi\")\n",
    "fruits.insert(2, \"pineapple\")\n",
    "print(\"List after adding elements:\",fruits)\n",
    "fruits.remove(\"mango\")\n",
    "del fruits[4]\n",
    "print(\"List after removing elements:\" , fruits)\n",
    "print(\"Length of the list:\" , len(fruits))\n",
    "fruits.sort()\n",
    "print(\"Sorted list (ascending):\", fruits)\n",
    "fruits.sort(reverse=True)\n",
    "print(\"Sorted list (descending):\", fruits)"
   ]
  },
  {
   "cell_type": "code",
   "execution_count": 20,
   "id": "14cbd048-4f46-4140-9db0-3298104b5f28",
   "metadata": {},
   "outputs": [
    {
     "name": "stdout",
     "output_type": "stream",
     "text": [
      "Length of the string: 18\n",
      "Uppercase: HELLO, HOW ARE YOU\n",
      "Lowercase: hello, how are you\n",
      "The substring 'are' exists in the string.\n",
      "List of words: ['Hello,', 'How', 'are', 'you']\n"
     ]
    }
   ],
   "source": [
    "# Q7. Manipulate strings using various built-in functions.\n",
    "# Create a string variable and find the length of the string.\n",
    "# Convert the string to uppercase and lowercase.\n",
    "# Check if a substring exists in the string.\n",
    "# Split the string into a list of words.\n",
    "\n",
    "\n",
    "text = \"Hello, How are you\"\n",
    "length = len(text)\n",
    "print(\"Length of the string:\", length)\n",
    "\n",
    "uppercase_text = text.upper()\n",
    "lowercase_text = text.lower()\n",
    "print(\"Uppercase:\", uppercase_text)\n",
    "print(\"Lowercase:\", lowercase_text)\n",
    "\n",
    "substring = \"are\"\n",
    "if substring in text:\n",
    "    print(f\"The substring '{substring}' exists in the string.\")\n",
    "else:\n",
    "    print(f\"The substring '{substring}' does not exist in the string.\")\n",
    "\n",
    "words = text.split()\n",
    "print(\"List of words:\", words)\n"
   ]
  },
  {
   "cell_type": "code",
   "execution_count": 21,
   "id": "8e278cf2-b57a-4985-9868-f1361918425c",
   "metadata": {},
   "outputs": [
    {
     "name": "stdout",
     "output_type": "stream",
     "text": [
      "Largest number: 89\n",
      "Smallest number: 12\n"
     ]
    }
   ],
   "source": [
    "# Q8. Write a program to find the largest and smallest number in a list.\n",
    "numbers = [34, 78, 12, 56, 89, 23]\n",
    "largest = max(numbers)\n",
    "smallest = min(numbers)\n",
    "print(\"Largest number:\", largest)\n",
    "print(\"Smallest number:\", smallest)"
   ]
  },
  {
   "cell_type": "code",
   "execution_count": null,
   "id": "298a3a6c-2032-41fd-b86f-e94d664547cb",
   "metadata": {},
   "outputs": [],
   "source": []
  }
 ],
 "metadata": {
  "kernelspec": {
   "display_name": "Python 3 (ipykernel)",
   "language": "python",
   "name": "python3"
  },
  "language_info": {
   "codemirror_mode": {
    "name": "ipython",
    "version": 3
   },
   "file_extension": ".py",
   "mimetype": "text/x-python",
   "name": "python",
   "nbconvert_exporter": "python",
   "pygments_lexer": "ipython3",
   "version": "3.12.5"
  }
 },
 "nbformat": 4,
 "nbformat_minor": 5
}
